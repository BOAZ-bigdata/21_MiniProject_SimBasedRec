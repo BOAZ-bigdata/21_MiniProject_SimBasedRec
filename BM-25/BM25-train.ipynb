{
  "nbformat": 4,
  "nbformat_minor": 0,
  "metadata": {
    "colab": {
      "provenance": []
    },
    "kernelspec": {
      "name": "python3",
      "display_name": "Python 3"
    },
    "language_info": {
      "name": "python"
    }
  },
  "cells": [
    {
      "cell_type": "markdown",
      "source": [
        "구글 드라이브 마운트 & 라이브러리 import"
      ],
      "metadata": {
        "id": "DP3iw9qlUkq7"
      }
    },
    {
      "cell_type": "code",
      "source": [
        "from google.colab import drive\n",
        "drive.mount('/content/drive')"
      ],
      "metadata": {
        "colab": {
          "base_uri": "https://localhost:8080/"
        },
        "id": "436t64qWI_wk",
        "outputId": "985da00d-98a3-469e-9a0c-75190d1ac9ae"
      },
      "execution_count": 1,
      "outputs": [
        {
          "output_type": "stream",
          "name": "stdout",
          "text": [
            "Drive already mounted at /content/drive; to attempt to forcibly remount, call drive.mount(\"/content/drive\", force_remount=True).\n"
          ]
        }
      ]
    },
    {
      "cell_type": "code",
      "source": [
        "import os\n",
        "import pickle\n",
        "\n",
        "import pandas as pd\n",
        "import pyarrow as pa\n",
        "from rank_bm25 import BM25Okapi"
      ],
      "metadata": {
        "id": "R8JXI7AXSFtV"
      },
      "execution_count": 2,
      "outputs": []
    },
    {
      "cell_type": "markdown",
      "source": [
        "Preprocessed Datasest 로드\n",
        "- Preprocess 내용\n",
        "  - 개행문자 제거\n",
        "  - 형태소 단위로 분리"
      ],
      "metadata": {
        "id": "ux1Np5PHUsti"
      }
    },
    {
      "cell_type": "code",
      "source": [
        "origin_path = \"/content/drive/MyDrive/활동/boaz/\"\n",
        "parquet_path = os.path.join(origin_path,\"bm25input_added_data.parquet\")"
      ],
      "metadata": {
        "id": "m8e-pCXcIb0q"
      },
      "execution_count": 3,
      "outputs": []
    },
    {
      "cell_type": "code",
      "source": [
        "df = pd.read_parquet(parquet_path)"
      ],
      "metadata": {
        "id": "7S28XzQ_Sg2n"
      },
      "execution_count": 4,
      "outputs": []
    },
    {
      "cell_type": "code",
      "source": [
        "df.head()"
      ],
      "metadata": {
        "colab": {
          "base_uri": "https://localhost:8080/",
          "height": 206
        },
        "id": "QG8QhxSbSoDa",
        "outputId": "8c983cbb-3f9f-4ea1-f025-4aab1e40cb48"
      },
      "execution_count": 5,
      "outputs": [
        {
          "output_type": "execute_result",
          "data": {
            "text/plain": [
              "                                                text  \\\n",
              "0  주문 상고 를 모두 기각 한다 상고 비용 은 원고 들 의 부담 으로 한다 이유 상고...   \n",
              "1  주문 상고 를 기각 한다 상고 비용 은 피고 의 부담 으로 한다 이유 상고 이유 를...   \n",
              "2  주문 원심 판결 을 파기 하 고 사건 을 서울 고등 법원 에 환송 한다 이유 1 피...   \n",
              "3  주문 피고인 의 항소 를 기각 한다 이유 1 항소 이유 의 요지 피고인 에 대한 원...   \n",
              "4  주문 상고 를 기각 한다 상고 소송비용 은 원고 의 부담 으로 한다 이유 원고 소송...   \n",
              "\n",
              "                                          bm25_input  \n",
              "0  [주문, 상고, 를, 모두, 기각, 한다, 상고, 비용, 은, 원고, 들, 의, 부...  \n",
              "1  [주문, 상고, 를, 기각, 한다, 상고, 비용, 은, 피고, 의, 부담, 으로, ...  \n",
              "2  [주문, 원심, 판결, 을, 파기, 하, 고, 사건, 을, 서울, 고등, 법원, 에...  \n",
              "3  [주문, 피고인, 의, 항소, 를, 기각, 한다, 이유, 1, 항소, 이유, 의, ...  \n",
              "4  [주문, 상고, 를, 기각, 한다, 상고, 소송비용, 은, 원고, 의, 부담, 으로...  "
            ],
            "text/html": [
              "\n",
              "  <div id=\"df-d03039e0-d7c2-47cc-93b1-5206544ca125\" class=\"colab-df-container\">\n",
              "    <div>\n",
              "<style scoped>\n",
              "    .dataframe tbody tr th:only-of-type {\n",
              "        vertical-align: middle;\n",
              "    }\n",
              "\n",
              "    .dataframe tbody tr th {\n",
              "        vertical-align: top;\n",
              "    }\n",
              "\n",
              "    .dataframe thead th {\n",
              "        text-align: right;\n",
              "    }\n",
              "</style>\n",
              "<table border=\"1\" class=\"dataframe\">\n",
              "  <thead>\n",
              "    <tr style=\"text-align: right;\">\n",
              "      <th></th>\n",
              "      <th>text</th>\n",
              "      <th>bm25_input</th>\n",
              "    </tr>\n",
              "  </thead>\n",
              "  <tbody>\n",
              "    <tr>\n",
              "      <th>0</th>\n",
              "      <td>주문 상고 를 모두 기각 한다 상고 비용 은 원고 들 의 부담 으로 한다 이유 상고...</td>\n",
              "      <td>[주문, 상고, 를, 모두, 기각, 한다, 상고, 비용, 은, 원고, 들, 의, 부...</td>\n",
              "    </tr>\n",
              "    <tr>\n",
              "      <th>1</th>\n",
              "      <td>주문 상고 를 기각 한다 상고 비용 은 피고 의 부담 으로 한다 이유 상고 이유 를...</td>\n",
              "      <td>[주문, 상고, 를, 기각, 한다, 상고, 비용, 은, 피고, 의, 부담, 으로, ...</td>\n",
              "    </tr>\n",
              "    <tr>\n",
              "      <th>2</th>\n",
              "      <td>주문 원심 판결 을 파기 하 고 사건 을 서울 고등 법원 에 환송 한다 이유 1 피...</td>\n",
              "      <td>[주문, 원심, 판결, 을, 파기, 하, 고, 사건, 을, 서울, 고등, 법원, 에...</td>\n",
              "    </tr>\n",
              "    <tr>\n",
              "      <th>3</th>\n",
              "      <td>주문 피고인 의 항소 를 기각 한다 이유 1 항소 이유 의 요지 피고인 에 대한 원...</td>\n",
              "      <td>[주문, 피고인, 의, 항소, 를, 기각, 한다, 이유, 1, 항소, 이유, 의, ...</td>\n",
              "    </tr>\n",
              "    <tr>\n",
              "      <th>4</th>\n",
              "      <td>주문 상고 를 기각 한다 상고 소송비용 은 원고 의 부담 으로 한다 이유 원고 소송...</td>\n",
              "      <td>[주문, 상고, 를, 기각, 한다, 상고, 소송비용, 은, 원고, 의, 부담, 으로...</td>\n",
              "    </tr>\n",
              "  </tbody>\n",
              "</table>\n",
              "</div>\n",
              "    <div class=\"colab-df-buttons\">\n",
              "\n",
              "  <div class=\"colab-df-container\">\n",
              "    <button class=\"colab-df-convert\" onclick=\"convertToInteractive('df-d03039e0-d7c2-47cc-93b1-5206544ca125')\"\n",
              "            title=\"Convert this dataframe to an interactive table.\"\n",
              "            style=\"display:none;\">\n",
              "\n",
              "  <svg xmlns=\"http://www.w3.org/2000/svg\" height=\"24px\" viewBox=\"0 -960 960 960\">\n",
              "    <path d=\"M120-120v-720h720v720H120Zm60-500h600v-160H180v160Zm220 220h160v-160H400v160Zm0 220h160v-160H400v160ZM180-400h160v-160H180v160Zm440 0h160v-160H620v160ZM180-180h160v-160H180v160Zm440 0h160v-160H620v160Z\"/>\n",
              "  </svg>\n",
              "    </button>\n",
              "\n",
              "  <style>\n",
              "    .colab-df-container {\n",
              "      display:flex;\n",
              "      gap: 12px;\n",
              "    }\n",
              "\n",
              "    .colab-df-convert {\n",
              "      background-color: #E8F0FE;\n",
              "      border: none;\n",
              "      border-radius: 50%;\n",
              "      cursor: pointer;\n",
              "      display: none;\n",
              "      fill: #1967D2;\n",
              "      height: 32px;\n",
              "      padding: 0 0 0 0;\n",
              "      width: 32px;\n",
              "    }\n",
              "\n",
              "    .colab-df-convert:hover {\n",
              "      background-color: #E2EBFA;\n",
              "      box-shadow: 0px 1px 2px rgba(60, 64, 67, 0.3), 0px 1px 3px 1px rgba(60, 64, 67, 0.15);\n",
              "      fill: #174EA6;\n",
              "    }\n",
              "\n",
              "    .colab-df-buttons div {\n",
              "      margin-bottom: 4px;\n",
              "    }\n",
              "\n",
              "    [theme=dark] .colab-df-convert {\n",
              "      background-color: #3B4455;\n",
              "      fill: #D2E3FC;\n",
              "    }\n",
              "\n",
              "    [theme=dark] .colab-df-convert:hover {\n",
              "      background-color: #434B5C;\n",
              "      box-shadow: 0px 1px 3px 1px rgba(0, 0, 0, 0.15);\n",
              "      filter: drop-shadow(0px 1px 2px rgba(0, 0, 0, 0.3));\n",
              "      fill: #FFFFFF;\n",
              "    }\n",
              "  </style>\n",
              "\n",
              "    <script>\n",
              "      const buttonEl =\n",
              "        document.querySelector('#df-d03039e0-d7c2-47cc-93b1-5206544ca125 button.colab-df-convert');\n",
              "      buttonEl.style.display =\n",
              "        google.colab.kernel.accessAllowed ? 'block' : 'none';\n",
              "\n",
              "      async function convertToInteractive(key) {\n",
              "        const element = document.querySelector('#df-d03039e0-d7c2-47cc-93b1-5206544ca125');\n",
              "        const dataTable =\n",
              "          await google.colab.kernel.invokeFunction('convertToInteractive',\n",
              "                                                    [key], {});\n",
              "        if (!dataTable) return;\n",
              "\n",
              "        const docLinkHtml = 'Like what you see? Visit the ' +\n",
              "          '<a target=\"_blank\" href=https://colab.research.google.com/notebooks/data_table.ipynb>data table notebook</a>'\n",
              "          + ' to learn more about interactive tables.';\n",
              "        element.innerHTML = '';\n",
              "        dataTable['output_type'] = 'display_data';\n",
              "        await google.colab.output.renderOutput(dataTable, element);\n",
              "        const docLink = document.createElement('div');\n",
              "        docLink.innerHTML = docLinkHtml;\n",
              "        element.appendChild(docLink);\n",
              "      }\n",
              "    </script>\n",
              "  </div>\n",
              "\n",
              "\n",
              "<div id=\"df-ee8c2a16-99a8-434c-84fa-b87a05fc8b78\">\n",
              "  <button class=\"colab-df-quickchart\" onclick=\"quickchart('df-ee8c2a16-99a8-434c-84fa-b87a05fc8b78')\"\n",
              "            title=\"Suggest charts.\"\n",
              "            style=\"display:none;\">\n",
              "\n",
              "<svg xmlns=\"http://www.w3.org/2000/svg\" height=\"24px\"viewBox=\"0 0 24 24\"\n",
              "     width=\"24px\">\n",
              "    <g>\n",
              "        <path d=\"M19 3H5c-1.1 0-2 .9-2 2v14c0 1.1.9 2 2 2h14c1.1 0 2-.9 2-2V5c0-1.1-.9-2-2-2zM9 17H7v-7h2v7zm4 0h-2V7h2v10zm4 0h-2v-4h2v4z\"/>\n",
              "    </g>\n",
              "</svg>\n",
              "  </button>\n",
              "\n",
              "<style>\n",
              "  .colab-df-quickchart {\n",
              "    background-color: #E8F0FE;\n",
              "    border: none;\n",
              "    border-radius: 50%;\n",
              "    cursor: pointer;\n",
              "    display: none;\n",
              "    fill: #1967D2;\n",
              "    height: 32px;\n",
              "    padding: 0 0 0 0;\n",
              "    width: 32px;\n",
              "  }\n",
              "\n",
              "  .colab-df-quickchart:hover {\n",
              "    background-color: #E2EBFA;\n",
              "    box-shadow: 0px 1px 2px rgba(60, 64, 67, 0.3), 0px 1px 3px 1px rgba(60, 64, 67, 0.15);\n",
              "    fill: #174EA6;\n",
              "  }\n",
              "\n",
              "  [theme=dark] .colab-df-quickchart {\n",
              "    background-color: #3B4455;\n",
              "    fill: #D2E3FC;\n",
              "  }\n",
              "\n",
              "  [theme=dark] .colab-df-quickchart:hover {\n",
              "    background-color: #434B5C;\n",
              "    box-shadow: 0px 1px 3px 1px rgba(0, 0, 0, 0.15);\n",
              "    filter: drop-shadow(0px 1px 2px rgba(0, 0, 0, 0.3));\n",
              "    fill: #FFFFFF;\n",
              "  }\n",
              "</style>\n",
              "\n",
              "  <script>\n",
              "    async function quickchart(key) {\n",
              "      const charts = await google.colab.kernel.invokeFunction(\n",
              "          'suggestCharts', [key], {});\n",
              "    }\n",
              "    (() => {\n",
              "      let quickchartButtonEl =\n",
              "        document.querySelector('#df-ee8c2a16-99a8-434c-84fa-b87a05fc8b78 button');\n",
              "      quickchartButtonEl.style.display =\n",
              "        google.colab.kernel.accessAllowed ? 'block' : 'none';\n",
              "    })();\n",
              "  </script>\n",
              "</div>\n",
              "    </div>\n",
              "  </div>\n"
            ]
          },
          "metadata": {},
          "execution_count": 5
        }
      ]
    },
    {
      "cell_type": "markdown",
      "source": [
        "Dataset Format 변환(csv->list)"
      ],
      "metadata": {
        "id": "0xXgoicGU0-s"
      }
    },
    {
      "cell_type": "code",
      "source": [
        "corpus_list = df[\"bm25_input\"].to_list()"
      ],
      "metadata": {
        "id": "CghMtGlMcMQ_"
      },
      "execution_count": 6,
      "outputs": []
    },
    {
      "cell_type": "code",
      "source": [
        "print(f\"Total {len(corpus_list)} precedents in corpus\")\n",
        "print(f\"First precedent in corpus: {corpus_list[0]}\")"
      ],
      "metadata": {
        "colab": {
          "base_uri": "https://localhost:8080/"
        },
        "id": "VzU0MOHEVFQu",
        "outputId": "892aa22f-e7c4-49f6-daaa-a51eae1477cc"
      },
      "execution_count": 7,
      "outputs": [
        {
          "output_type": "stream",
          "name": "stdout",
          "text": [
            "Total 149956 precedents in corpus\n",
            "First precedent in corpus: ['주문' '상고' '를' ... '같이' '판결' '한다']\n"
          ]
        }
      ]
    },
    {
      "cell_type": "markdown",
      "source": [
        "BM25 학습"
      ],
      "metadata": {
        "id": "maO3l-FmXG-7"
      }
    },
    {
      "cell_type": "code",
      "source": [
        "bm25 = BM25Okapi(corpus_list)"
      ],
      "metadata": {
        "id": "l-4iJAHoJk_O"
      },
      "execution_count": 9,
      "outputs": []
    },
    {
      "cell_type": "markdown",
      "source": [
        "학습된 BM25 저장"
      ],
      "metadata": {
        "id": "TnCAqecLXQa0"
      }
    },
    {
      "cell_type": "code",
      "source": [
        "with open(origin_path+'bm25_result', 'wb') as bm25result_file:\n",
        "    pickle.dump(bm25, bm25result_file)"
      ],
      "metadata": {
        "id": "JYhbzGFdKDs1"
      },
      "execution_count": 10,
      "outputs": []
    }
  ]
}