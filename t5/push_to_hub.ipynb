{
 "cells": [
  {
   "cell_type": "code",
   "execution_count": 1,
   "metadata": {},
   "outputs": [
    {
     "name": "stderr",
     "output_type": "stream",
     "text": [
      "/usr/local/lib/python3.9/dist-packages/horovod/common/util.py:258: UserWarning: Framework pytorch installed with version 1.10.2+cu111 but found version 1.10.1+cu111.\n",
      "             This can result in unexpected behavior including runtime errors.\n",
      "             Reinstall Horovod using `pip install --no-cache-dir` to build with the new version.\n",
      "  warnings.warn(get_version_mismatch_message(name, version, installed_version))\n"
     ]
    },
    {
     "name": "stdout",
     "output_type": "stream",
     "text": [
      "trainable params: 12,582,912 || all params: 795,601,920 || trainable%: 1.5815587775353785\n"
     ]
    },
    {
     "data": {
      "application/vnd.jupyter.widget-view+json": {
       "model_id": "ce799b9caba84a2ca1f668c3cc4c9b95",
       "version_major": 2,
       "version_minor": 0
      },
      "text/plain": [
       "adapter_model.bin:   0%|          | 0.00/50.3M [00:00<?, ?B/s]"
      ]
     },
     "metadata": {},
     "output_type": "display_data"
    },
    {
     "data": {
      "text/plain": [
       "CommitInfo(commit_url='https://huggingface.co/augustinLib/KET5-Prefix-Tuning-Lbox/commit/7a58c944274d0a19cc99adb69e45705f39ccacb9', commit_message='Upload model', commit_description='', oid='7a58c944274d0a19cc99adb69e45705f39ccacb9', pr_url=None, pr_revision=None, pr_num=None)"
      ]
     },
     "execution_count": 1,
     "metadata": {},
     "output_type": "execute_result"
    }
   ],
   "source": [
    "from model import T5ModelForPreTraining\n",
    "\n",
    "# Pass the checkpoint path to the method\n",
    "model = T5ModelForPreTraining.load_from_checkpoint(\"./checkpoint/T5Pft-batch_size10-val_loss=1.73.ckpt\")\n",
    "\n",
    "\n",
    "# pytorch lightning model has huggingface model as member variable\n",
    "# Pass the huggingface repository address to the method\n",
    "\n",
    "model.model.push_to_hub(\"augustinLib/KET5-Prefix-Tuning-Lbox\")"
   ]
  }
 ],
 "metadata": {
  "kernelspec": {
   "display_name": "Python 3",
   "language": "python",
   "name": "python3"
  },
  "language_info": {
   "codemirror_mode": {
    "name": "ipython",
    "version": 3
   },
   "file_extension": ".py",
   "mimetype": "text/x-python",
   "name": "python",
   "nbconvert_exporter": "python",
   "pygments_lexer": "ipython3",
   "version": "3.9.13"
  },
  "orig_nbformat": 4
 },
 "nbformat": 4,
 "nbformat_minor": 2
}
